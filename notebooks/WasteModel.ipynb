{
 "cells": [
  {
   "cell_type": "code",
   "execution_count": 6,
   "metadata": {
    "colab": {
     "base_uri": "https://localhost:8080/"
    },
    "id": "Orn5nyXAa7Yg",
    "outputId": "043b2b51-45a8-4103-bd36-ea34e6dcd2ca"
   },
   "outputs": [
    {
     "ename": "ModuleNotFoundError",
     "evalue": "No module named 'google.colab'",
     "output_type": "error",
     "traceback": [
      "\u001b[0;31m---------------------------------------------------------------------------\u001b[0m",
      "\u001b[0;31mModuleNotFoundError\u001b[0m                       Traceback (most recent call last)",
      "\u001b[0;32m<ipython-input-6-d5df0069828e>\u001b[0m in \u001b[0;36m<module>\u001b[0;34m\u001b[0m\n\u001b[0;32m----> 1\u001b[0;31m \u001b[0;32mfrom\u001b[0m \u001b[0mgoogle\u001b[0m\u001b[0;34m.\u001b[0m\u001b[0mcolab\u001b[0m \u001b[0;32mimport\u001b[0m \u001b[0mdrive\u001b[0m\u001b[0;34m\u001b[0m\u001b[0;34m\u001b[0m\u001b[0m\n\u001b[0m\u001b[1;32m      2\u001b[0m \u001b[0mdrive\u001b[0m\u001b[0;34m.\u001b[0m\u001b[0mmount\u001b[0m\u001b[0;34m(\u001b[0m\u001b[0;34m'/content/drive'\u001b[0m\u001b[0;34m)\u001b[0m\u001b[0;34m\u001b[0m\u001b[0;34m\u001b[0m\u001b[0m\n",
      "\u001b[0;31mModuleNotFoundError\u001b[0m: No module named 'google.colab'"
     ]
    }
   ],
   "source": [
    "from google.colab import drive\n",
    "drive.mount('/content/drive')"
   ]
  },
  {
   "cell_type": "code",
   "execution_count": 7,
   "metadata": {
    "colab": {
     "base_uri": "https://localhost:8080/"
    },
    "id": "oOY9CCGUbG34",
    "outputId": "4dda6a85-d4c8-4744-d9da-fcd08cd0cb4b"
   },
   "outputs": [
    {
     "name": "stdout",
     "output_type": "stream",
     "text": [
      "[Errno 2] No such file or directory: '/content/drive/My Drive/Recycle project'\n",
      "/Users/benoit/code/bakerley/whattrash/notebooks\n"
     ]
    }
   ],
   "source": [
    "%cd '/content/drive/My Drive/Recycle project'"
   ]
  },
  {
   "cell_type": "code",
   "execution_count": 8,
   "metadata": {
    "colab": {
     "base_uri": "https://localhost:8080/"
    },
    "id": "JqLf4x3TukfR",
    "outputId": "b38c8d42-412f-488d-e968-e08a81fe65dd"
   },
   "outputs": [
    {
     "name": "stdout",
     "output_type": "stream",
     "text": [
      "WasteModel.ipynb\r\n"
     ]
    }
   ],
   "source": [
    "%ls"
   ]
  },
  {
   "cell_type": "code",
   "execution_count": 9,
   "metadata": {
    "id": "waouIEgMtLbj"
   },
   "outputs": [
    {
     "name": "stdout",
     "output_type": "stream",
     "text": [
      "unzip:  cannot find or open recyclingproject.zip, recyclingproject.zip.zip or recyclingproject.zip.ZIP.\r\n"
     ]
    }
   ],
   "source": [
    "!unzip recyclingproject.zip"
   ]
  },
  {
   "cell_type": "code",
   "execution_count": 10,
   "metadata": {
    "id": "SGaju4pUtkBW"
   },
   "outputs": [],
   "source": [
    "import tensorflow as tf\n",
    "import numpy as np\n",
    "import matplotlib.pyplot as plt"
   ]
  },
  {
   "cell_type": "markdown",
   "metadata": {
    "id": "_DI5tEwFR62J"
   },
   "source": [
    "# Data preparation"
   ]
  },
  {
   "cell_type": "code",
   "execution_count": null,
   "metadata": {
    "colab": {
     "base_uri": "https://localhost:8080/"
    },
    "id": "qar8lUIotvWE",
    "outputId": "3c93aaba-04fc-4907-989c-55c79335d144"
   },
   "outputs": [
    {
     "name": "stdout",
     "output_type": "stream",
     "text": [
      "Found 8369 images belonging to 9 classes.\n"
     ]
    }
   ],
   "source": [
    "from tensorflow.keras.preprocessing.image import ImageDataGenerator\n",
    "\n",
    "gen_train = ImageDataGenerator(rescale = 1/255, shear_range = 0.2, zoom_range = 0.2, \n",
    "                               brightness_range = (0.1, 0.5), horizontal_flip=True)\n",
    "\n",
    "train_data = gen_train.flow_from_directory(\"/content/drive/My Drive/Recycle project/recycling waste\",\n",
    "                                           target_size = (224, 224), batch_size = 32, class_mode=\"categorical\")"
   ]
  },
  {
   "cell_type": "markdown",
   "metadata": {
    "id": "yC4Ev0NVSHh3"
   },
   "source": [
    "# Model\n",
    "For the first model we will use a vgg16"
   ]
  },
  {
   "cell_type": "code",
   "execution_count": 32,
   "metadata": {
    "id": "PF-JEXifScZW"
   },
   "outputs": [],
   "source": [
    "from tensorflow.keras.applications.vgg16 import VGG16\n",
    "from tensorflow.keras import layers"
   ]
  },
  {
   "cell_type": "code",
   "execution_count": null,
   "metadata": {
    "colab": {
     "base_uri": "https://localhost:8080/"
    },
    "id": "FyFgFTmkuXXG",
    "outputId": "13cee32c-8de5-4928-a638-096fa3a2a1dd"
   },
   "outputs": [
    {
     "name": "stdout",
     "output_type": "stream",
     "text": [
      "Downloading data from https://storage.googleapis.com/tensorflow/keras-applications/vgg16/vgg16_weights_tf_dim_ordering_tf_kernels_notop.h5\n",
      "58892288/58889256 [==============================] - 0s 0us/step\n"
     ]
    }
   ],
   "source": [
    "vgg16 = VGG16(input_shape = (224, 224, 3), weights = \"imagenet\", include_top = False)\n",
    "for layer in vgg16.layers:\n",
    "  layer.trainable = False\n",
    "x = layers.Flatten()(vgg16.output)"
   ]
  },
  {
   "cell_type": "code",
   "execution_count": null,
   "metadata": {
    "colab": {
     "base_uri": "https://localhost:8080/"
    },
    "id": "094NzPaLv3PA",
    "outputId": "a2a43530-ce9e-440f-ac5b-70aa8d1098b9"
   },
   "outputs": [
    {
     "name": "stdout",
     "output_type": "stream",
     "text": [
      "Model: \"model\"\n",
      "_________________________________________________________________\n",
      "Layer (type)                 Output Shape              Param #   \n",
      "=================================================================\n",
      "input_1 (InputLayer)         [(None, 224, 224, 3)]     0         \n",
      "_________________________________________________________________\n",
      "block1_conv1 (Conv2D)        (None, 224, 224, 64)      1792      \n",
      "_________________________________________________________________\n",
      "block1_conv2 (Conv2D)        (None, 224, 224, 64)      36928     \n",
      "_________________________________________________________________\n",
      "block1_pool (MaxPooling2D)   (None, 112, 112, 64)      0         \n",
      "_________________________________________________________________\n",
      "block2_conv1 (Conv2D)        (None, 112, 112, 128)     73856     \n",
      "_________________________________________________________________\n",
      "block2_conv2 (Conv2D)        (None, 112, 112, 128)     147584    \n",
      "_________________________________________________________________\n",
      "block2_pool (MaxPooling2D)   (None, 56, 56, 128)       0         \n",
      "_________________________________________________________________\n",
      "block3_conv1 (Conv2D)        (None, 56, 56, 256)       295168    \n",
      "_________________________________________________________________\n",
      "block3_conv2 (Conv2D)        (None, 56, 56, 256)       590080    \n",
      "_________________________________________________________________\n",
      "block3_conv3 (Conv2D)        (None, 56, 56, 256)       590080    \n",
      "_________________________________________________________________\n",
      "block3_pool (MaxPooling2D)   (None, 28, 28, 256)       0         \n",
      "_________________________________________________________________\n",
      "block4_conv1 (Conv2D)        (None, 28, 28, 512)       1180160   \n",
      "_________________________________________________________________\n",
      "block4_conv2 (Conv2D)        (None, 28, 28, 512)       2359808   \n",
      "_________________________________________________________________\n",
      "block4_conv3 (Conv2D)        (None, 28, 28, 512)       2359808   \n",
      "_________________________________________________________________\n",
      "block4_pool (MaxPooling2D)   (None, 14, 14, 512)       0         \n",
      "_________________________________________________________________\n",
      "block5_conv1 (Conv2D)        (None, 14, 14, 512)       2359808   \n",
      "_________________________________________________________________\n",
      "block5_conv2 (Conv2D)        (None, 14, 14, 512)       2359808   \n",
      "_________________________________________________________________\n",
      "block5_conv3 (Conv2D)        (None, 14, 14, 512)       2359808   \n",
      "_________________________________________________________________\n",
      "block5_pool (MaxPooling2D)   (None, 7, 7, 512)         0         \n",
      "_________________________________________________________________\n",
      "flatten_1 (Flatten)          (None, 25088)             0         \n",
      "_________________________________________________________________\n",
      "dense (Dense)                (None, 9)                 225801    \n",
      "=================================================================\n",
      "Total params: 14,940,489\n",
      "Trainable params: 225,801\n",
      "Non-trainable params: 14,714,688\n",
      "_________________________________________________________________\n"
     ]
    }
   ],
   "source": [
    "prediction = layers.Dense(units = 9, activation=\"softmax\")(x)\n",
    "\n",
    "model = tf.keras.models.Model(inputs = vgg16.input, outputs=prediction)\n",
    "model.summary()"
   ]
  },
  {
   "cell_type": "code",
   "execution_count": null,
   "metadata": {
    "colab": {
     "base_uri": "https://localhost:8080/"
    },
    "id": "YHb7VQJNv7q5",
    "outputId": "72f482ef-1020-45e4-e516-a7c785fe4cc7"
   },
   "outputs": [
    {
     "name": "stderr",
     "output_type": "stream",
     "text": [
      "/usr/local/lib/python3.7/dist-packages/tensorflow/python/keras/engine/training.py:1844: UserWarning: `Model.fit_generator` is deprecated and will be removed in a future version. Please use `Model.fit`, which supports generators.\n",
      "  warnings.warn('`Model.fit_generator` is deprecated and '\n"
     ]
    },
    {
     "name": "stdout",
     "output_type": "stream",
     "text": [
      "Epoch 1/28\n",
      "262/262 [==============================] - 201s 625ms/step - loss: 2.1794 - accuracy: 0.2875\n",
      "Epoch 2/28\n",
      "262/262 [==============================] - 162s 618ms/step - loss: 1.5989 - accuracy: 0.4431\n",
      "Epoch 3/28\n",
      "262/262 [==============================] - 162s 619ms/step - loss: 1.4888 - accuracy: 0.4838\n",
      "Epoch 4/28\n",
      "262/262 [==============================] - 163s 621ms/step - loss: 1.3801 - accuracy: 0.5149\n",
      "Epoch 5/28\n",
      "262/262 [==============================] - 162s 617ms/step - loss: 1.3396 - accuracy: 0.5359\n",
      "Epoch 6/28\n",
      "262/262 [==============================] - 161s 614ms/step - loss: 1.2747 - accuracy: 0.5597\n",
      "Epoch 7/28\n",
      "262/262 [==============================] - 161s 615ms/step - loss: 1.2426 - accuracy: 0.5737\n",
      "Epoch 8/28\n",
      "262/262 [==============================] - 160s 612ms/step - loss: 1.1721 - accuracy: 0.5951\n",
      "Epoch 9/28\n",
      "262/262 [==============================] - 161s 613ms/step - loss: 1.1932 - accuracy: 0.5841\n",
      "Epoch 10/28\n",
      "262/262 [==============================] - 160s 609ms/step - loss: 1.1698 - accuracy: 0.5921\n",
      "Epoch 11/28\n",
      "262/262 [==============================] - 160s 611ms/step - loss: 1.1616 - accuracy: 0.5982\n",
      "Epoch 12/28\n",
      "262/262 [==============================] - 160s 612ms/step - loss: 1.0842 - accuracy: 0.6207\n",
      "Epoch 13/28\n",
      "262/262 [==============================] - 160s 612ms/step - loss: 1.0407 - accuracy: 0.6454\n",
      "Epoch 14/28\n",
      "262/262 [==============================] - 161s 614ms/step - loss: 1.0265 - accuracy: 0.6476\n",
      "Epoch 15/28\n",
      "262/262 [==============================] - 161s 614ms/step - loss: 1.0260 - accuracy: 0.6508\n",
      "Epoch 16/28\n",
      "262/262 [==============================] - 163s 620ms/step - loss: 1.0215 - accuracy: 0.6433\n",
      "Epoch 17/28\n",
      "262/262 [==============================] - 162s 618ms/step - loss: 0.9443 - accuracy: 0.6758\n",
      "Epoch 18/28\n",
      "262/262 [==============================] - 161s 613ms/step - loss: 0.9617 - accuracy: 0.6607\n",
      "Epoch 19/28\n",
      "262/262 [==============================] - 160s 611ms/step - loss: 0.9876 - accuracy: 0.6630\n",
      "Epoch 20/28\n",
      "262/262 [==============================] - 160s 610ms/step - loss: 0.9298 - accuracy: 0.6844\n",
      "Epoch 21/28\n",
      "262/262 [==============================] - 161s 614ms/step - loss: 0.9990 - accuracy: 0.6693\n",
      "Epoch 22/28\n",
      "262/262 [==============================] - 160s 612ms/step - loss: 0.9197 - accuracy: 0.6774\n",
      "Epoch 23/28\n",
      "262/262 [==============================] - 161s 614ms/step - loss: 0.9144 - accuracy: 0.6874\n",
      "Epoch 24/28\n",
      "262/262 [==============================] - 161s 612ms/step - loss: 0.9477 - accuracy: 0.6730\n",
      "Epoch 25/28\n",
      "262/262 [==============================] - 161s 614ms/step - loss: 0.9101 - accuracy: 0.6885\n",
      "Epoch 26/28\n",
      "262/262 [==============================] - 161s 615ms/step - loss: 0.9741 - accuracy: 0.6699\n",
      "Epoch 27/28\n",
      "262/262 [==============================] - 161s 614ms/step - loss: 0.9587 - accuracy: 0.6822\n",
      "Epoch 28/28\n",
      "262/262 [==============================] - 160s 612ms/step - loss: 0.9126 - accuracy: 0.6903\n"
     ]
    }
   ],
   "source": [
    "model.compile(optimizer=\"adam\", loss=\"categorical_crossentropy\", metrics =[\"accuracy\"])\n",
    "\n",
    "result = model.fit_generator(train_data, epochs = 28, steps_per_epoch=len(train_data))"
   ]
  },
  {
   "cell_type": "code",
   "execution_count": 2,
   "metadata": {
    "id": "K4FfjXkvwGOY"
   },
   "outputs": [],
   "source": [
    "from tensorflow.keras.preprocessing import image\n",
    "output_class = [\"batteries\", \"clothes\", \"e-waste\", \"glass\", \"light blubs\", \"metal\", \"organic\", \"paper\", \"plastic\"]\n",
    "def waste_prediction(new_image):\n",
    "  test_image = image.load_img(new_image, target_size = (224,224))\n",
    "  plt.axis(\"off\")\n",
    "  plt.imshow(test_image)\n",
    "  plt.show()\n",
    " \n",
    "  test_image = image.img_to_array(test_image) / 255\n",
    "  test_image = np.expand_dims(test_image, axis=0)\n",
    "\n",
    "  predicted_array = model.predict(test_image)\n",
    "  predicted_value = output_class[np.argmax(predicted_array)]\n",
    "  predicted_accuracy = round(np.max(predicted_array) * 100, 2)\n",
    "\n",
    "  print(\"Your waste material is \", predicted_value, \" with \", predicted_accuracy, \" % accuracy\")\n"
   ]
  },
  {
   "cell_type": "code",
   "execution_count": 28,
   "metadata": {
    "colab": {
     "base_uri": "https://localhost:8080/"
    },
    "id": "0FBMqZFlLo7G",
    "outputId": "7325b0e5-0b82-4c91-826e-15c25b707f07"
   },
   "outputs": [
    {
     "name": "stdout",
     "output_type": "stream",
     "text": [
      " recyclingproject.zip  \u001b[0m\u001b[01;34m'recycling waste'\u001b[0m/   resize.jpeg\n"
     ]
    }
   ],
   "source": [
    "%ls\n"
   ]
  },
  {
   "cell_type": "code",
   "execution_count": 3,
   "metadata": {
    "colab": {
     "base_uri": "https://localhost:8080/"
    },
    "id": "3Ca5XFNowVMc",
    "outputId": "21691b3f-5908-4792-dc13-482c4c5b9aa7"
   },
   "outputs": [
    {
     "ename": "NameError",
     "evalue": "name 'plt' is not defined",
     "output_type": "error",
     "traceback": [
      "\u001b[0;31m---------------------------------------------------------------------------\u001b[0m",
      "\u001b[0;31mNameError\u001b[0m                                 Traceback (most recent call last)",
      "\u001b[0;32m<ipython-input-3-326f7d9112b3>\u001b[0m in \u001b[0;36m<module>\u001b[0;34m\u001b[0m\n\u001b[0;32m----> 1\u001b[0;31m \u001b[0mplt\u001b[0m\u001b[0;34m.\u001b[0m\u001b[0mtitle\u001b[0m\u001b[0;34m(\u001b[0m\u001b[0;34m\"Accuracy\"\u001b[0m\u001b[0;34m)\u001b[0m\u001b[0;34m\u001b[0m\u001b[0;34m\u001b[0m\u001b[0m\n\u001b[0m\u001b[1;32m      2\u001b[0m \u001b[0mplt\u001b[0m\u001b[0;34m.\u001b[0m\u001b[0mplot\u001b[0m\u001b[0;34m(\u001b[0m\u001b[0mresult\u001b[0m\u001b[0;34m.\u001b[0m\u001b[0mhistory\u001b[0m\u001b[0;34m[\u001b[0m\u001b[0;34m\"accuracy\"\u001b[0m\u001b[0;34m]\u001b[0m\u001b[0;34m)\u001b[0m\u001b[0;34m\u001b[0m\u001b[0;34m\u001b[0m\u001b[0m\n\u001b[1;32m      3\u001b[0m \u001b[0mplt\u001b[0m\u001b[0;34m.\u001b[0m\u001b[0mshow\u001b[0m\u001b[0;34m(\u001b[0m\u001b[0;34m)\u001b[0m\u001b[0;34m\u001b[0m\u001b[0;34m\u001b[0m\u001b[0m\n",
      "\u001b[0;31mNameError\u001b[0m: name 'plt' is not defined"
     ]
    }
   ],
   "source": [
    "plt.title(\"Accuracy\")\n",
    "plt.plot(result.history[\"accuracy\"])\n",
    "plt.show()"
   ]
  },
  {
   "cell_type": "code",
   "execution_count": null,
   "metadata": {
    "colab": {
     "base_uri": "https://localhost:8080/"
    },
    "id": "QuFjjTR2wZSv",
    "outputId": "11983f6a-e9bc-4513-8eaf-d26802558d75"
   },
   "outputs": [
    {
     "data": {
      "image/png": "[encoded data removed]",
      "text/plain": [
       "<Figure size 432x288 with 1 Axes>"
      ]
     },
     "metadata": {
      "needs_background": "light",
      "tags": []
     },
     "output_type": "display_data"
    }
   ],
   "source": [
    "plt.title(\"Loss\")\n",
    "plt.plot(result.history[\"loss\"])\n",
    "plt.show()"
   ]
  },
  {
   "cell_type": "code",
   "execution_count": 30,
   "metadata": {
    "id": "jpAQChkIRQLo"
   },
   "outputs": [],
   "source": [
    "model.save(\"classifyWaste.h5\")"
   ]
  }
 ],
 "metadata": {
  "accelerator": "GPU",
  "colab": {
   "collapsed_sections": [],
   "name": "WasteModel.ipynb",
   "provenance": []
  },
  "kernelspec": {
   "display_name": "Python 3",
   "language": "python",
   "name": "python3"
  },
  "language_info": {
   "codemirror_mode": {
    "name": "ipython",
    "version": 3
   },
   "file_extension": ".py",
   "mimetype": "text/x-python",
   "name": "python",
   "nbconvert_exporter": "python",
   "pygments_lexer": "ipython3",
   "version": "3.8.5"
  }
 },
 "nbformat": 4,
 "nbformat_minor": 1
}
